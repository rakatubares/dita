{
 "cells": [
  {
   "cell_type": "code",
   "execution_count": null,
   "metadata": {},
   "outputs": [],
   "source": [
    "import pymysql\n",
    "import pandas as pd\n",
    "\n",
    "host = '127.0.0.1'\n",
    "port = \"3306\"\n",
    "user = 'root'\n",
    "password = ''\n",
    "database = 'classicmodels'\n",
    "\n",
    "conn = pymysql.connect(\n",
    "    host=host,\n",
    "    port=int(port),\n",
    "    user=user,\n",
    "    passwd=password,\n",
    "    db=database,\n",
    "    charset='utf8mb4')\n",
    "\n",
    "def run(sql):\n",
    "    df = pd.read_sql_query(sql,conn)\n",
    "    return df"
   ]
  },
  {
   "cell_type": "markdown",
   "metadata": {},
   "source": [
    "# Join ada 4 Jenis:\n",
    "\n",
    "- Inner Join\n",
    "- Left Join\n",
    "- Right Join\n",
    "- Cross Join\n",
    "\n",
    "Terdapat Join ke diri Sendiri yang disebut Self Join\n",
    "\n",
    "## 1. INNER JOIN\n",
    "\n",
    "<img src=\"http://www.mysqltutorial.org/wp-content/uploads/2011/05/MySQL-INNER-JOIN-Venn-Diagram-300x166.png\" />\n",
    "\n",
    "<img src=\"http://www.mysqltutorial.org/wp-content/uploads/2017/07/MySQL-Join-inner-join-illustration.png\" />\n",
    "\n",
    "<img src=\"http://www.mysqltutorial.org/wp-content/uploads/2011/05/products_and_product_lines_tables.png\" />"
   ]
  },
  {
   "cell_type": "code",
   "execution_count": null,
   "metadata": {},
   "outputs": [],
   "source": [
    "run(\"\"\"\n",
    "SELECT \n",
    "    productCode, \n",
    "    productName, \n",
    "    textDescription\n",
    "FROM\n",
    "    products t1\n",
    "        INNER JOIN\n",
    "    productlines t2 ON t1.productline = t2.productline\n",
    "\"\"\")"
   ]
  },
  {
   "cell_type": "markdown",
   "metadata": {},
   "source": [
    "## USING"
   ]
  },
  {
   "cell_type": "code",
   "execution_count": null,
   "metadata": {},
   "outputs": [],
   "source": [
    "run(\"\"\"\n",
    "SELECT \n",
    "    productCode, \n",
    "    productName, \n",
    "    textDescription\n",
    "FROM\n",
    "    products\n",
    "        INNER JOIN\n",
    "    productlines USING (productline)\n",
    "\"\"\")"
   ]
  },
  {
   "cell_type": "markdown",
   "metadata": {},
   "source": [
    "## Kombinasi dengan GROUP BY\n",
    "\n",
    "<img src=\"http://www.mysqltutorial.org/wp-content/uploads/2011/05/orders_order_details_tables.png\" />"
   ]
  },
  {
   "cell_type": "code",
   "execution_count": null,
   "metadata": {},
   "outputs": [],
   "source": [
    "run(\"\"\"\n",
    "SELECT \n",
    "    T1.orderNumber,\n",
    "    status,\n",
    "    SUM(quantityOrdered * priceEach) total\n",
    "FROM\n",
    "    orders AS T1\n",
    "        INNER JOIN\n",
    "    orderdetails AS T2 ON T1.orderNumber = T2.orderNumber\n",
    "GROUP BY orderNumber\n",
    "\"\"\")"
   ]
  },
  {
   "cell_type": "markdown",
   "metadata": {},
   "source": [
    "## Join dengan Operasi Perbandingan Lain"
   ]
  },
  {
   "cell_type": "code",
   "execution_count": null,
   "metadata": {},
   "outputs": [],
   "source": [
    "run(\"\"\"\n",
    "SELECT \n",
    "    orderNumber, \n",
    "    productName, \n",
    "    msrp, \n",
    "    priceEach\n",
    "FROM\n",
    "    products p\n",
    "        INNER JOIN\n",
    "    orderdetails o ON p.productcode = o.productcode\n",
    "        AND p.msrp > o.priceEach\n",
    "WHERE\n",
    "    p.productcode = 'S10_1678'\n",
    "\"\"\")"
   ]
  },
  {
   "attachments": {},
   "cell_type": "markdown",
   "metadata": {},
   "source": [
    "# 2. LEFT JOIN\n",
    "<img src=\"http://www.mysqltutorial.org/wp-content/uploads/2011/05/mysql-left-join-Venn-diagram-300x183.png\" />\n",
    "\n",
    "<img src=\"http://www.mysqltutorial.org/wp-content/uploads/2017/07/MySQL-Join-left-join-illustration.png\" />\n",
    "\n",
    "<img src=\"http://www.mysqltutorial.org/wp-content/uploads/2009/12/customers_orders_tables.png\" />"
   ]
  },
  {
   "cell_type": "code",
   "execution_count": null,
   "metadata": {},
   "outputs": [],
   "source": [
    "run(\"\"\"\n",
    "SELECT\n",
    " c.customerNumber,\n",
    " c.customerName,\n",
    " orderNumber,\n",
    " o.status\n",
    "FROM\n",
    " customers c\n",
    "LEFT JOIN orders o ON c.customerNumber = o.customerNumber\n",
    "\"\"\")"
   ]
  },
  {
   "cell_type": "code",
   "execution_count": null,
   "metadata": {},
   "outputs": [],
   "source": [
    "run(\"\"\"\n",
    "SELECT \n",
    "    c.customerNumber, \n",
    "    c.customerName, \n",
    "    orderNumber, \n",
    "    o.status\n",
    "FROM\n",
    "    customers c\n",
    "        LEFT JOIN\n",
    "    orders o ON c.customerNumber = o.customerNumber\n",
    "WHERE\n",
    "    orderNumber IS NULL\n",
    "\"\"\")"
   ]
  },
  {
   "cell_type": "markdown",
   "metadata": {},
   "source": [
    "## WHERE vs ON"
   ]
  },
  {
   "cell_type": "code",
   "execution_count": null,
   "metadata": {},
   "outputs": [],
   "source": [
    "run(\"\"\"\n",
    "SELECT \n",
    "    o.orderNumber, \n",
    "    customerNumber, \n",
    "    productCode\n",
    "FROM\n",
    "    orders o\n",
    "        LEFT JOIN\n",
    "    orderDetails USING (orderNumber)\n",
    "WHERE\n",
    "    orderNumber = 10123\n",
    "\"\"\")"
   ]
  },
  {
   "cell_type": "code",
   "execution_count": null,
   "metadata": {},
   "outputs": [],
   "source": [
    "run(\"\"\"\n",
    "SELECT \n",
    "    o.orderNumber, \n",
    "    customerNumber, \n",
    "    productCode\n",
    "FROM\n",
    "    orders o\n",
    "        LEFT JOIN\n",
    "    orderDetails d ON o.orderNumber = d.orderNumber\n",
    "        AND o.orderNumber = 10123\n",
    "\"\"\")"
   ]
  },
  {
   "cell_type": "markdown",
   "metadata": {},
   "source": [
    "# 3. RIGHT JOIN\n",
    "\n",
    "<img src=\"http://www.mysqltutorial.org/wp-content/uploads/2017/07/MySQL-Join-right-join-illustration.png\" />"
   ]
  },
  {
   "cell_type": "code",
   "execution_count": null,
   "metadata": {},
   "outputs": [],
   "source": [
    "run(\"\"\"\n",
    "SELECT \n",
    "    concat(e.firstName,' ', e.lastName) salesman, \n",
    "    e.jobTitle, \n",
    "    customerName\n",
    "FROM\n",
    "    employees e\n",
    "        RIGHT JOIN\n",
    "    customers c ON e.employeeNumber = c.salesRepEmployeeNumber\n",
    "        AND e.jobTitle = 'Sales Rep'\n",
    "ORDER BY customerName\n",
    "\"\"\")"
   ]
  },
  {
   "cell_type": "markdown",
   "metadata": {},
   "source": [
    "# 4. CROSS JOIN"
   ]
  },
  {
   "cell_type": "markdown",
   "metadata": {},
   "source": [
    "<img src=\"http://www.mysqltutorial.org/wp-content/uploads/2017/07/MySQL-Join-cross-join-illustration.png\" />"
   ]
  },
  {
   "cell_type": "markdown",
   "metadata": {},
   "source": [
    "# 5. Self Join\n",
    "<img src=\"http://www.mysqltutorial.org/wp-content/uploads/2013/02/employees_table.png\" />"
   ]
  },
  {
   "cell_type": "code",
   "execution_count": null,
   "metadata": {},
   "outputs": [],
   "source": [
    "run(\"\"\"\n",
    "SELECT \n",
    "    CONCAT(m.lastname, ', ', m.firstname) AS 'Manager',\n",
    "    CONCAT(e.lastname, ', ', e.firstname) AS 'Direct report'\n",
    "FROM\n",
    "    employees e\n",
    "        INNER JOIN\n",
    "    employees m ON m.employeeNumber = e.reportsto\n",
    "ORDER BY manager\n",
    "\"\"\")"
   ]
  },
  {
   "cell_type": "code",
   "execution_count": null,
   "metadata": {},
   "outputs": [],
   "source": [
    "run(\"\"\"\n",
    "SELECT \n",
    "    IFNULL(CONCAT(m.lastname, ', ', m.firstname),\n",
    "            'Top Manager') AS 'Manager',\n",
    "    CONCAT(e.lastname, ', ', e.firstname) AS 'Direct report'\n",
    "FROM\n",
    "    employees e\n",
    "        LEFT JOIN\n",
    "    employees m ON m.employeeNumber = e.reportsto\n",
    "ORDER BY manager DESC\n",
    "\"\"\")"
   ]
  },
  {
   "cell_type": "code",
   "execution_count": null,
   "metadata": {},
   "outputs": [],
   "source": [
    "run(\"\"\"\n",
    "SELECT \n",
    "    c1.city, c1.customerName, c2.customerName\n",
    "FROM\n",
    "    customers c1\n",
    "        INNER JOIN\n",
    "    customers c2 ON c1.city = c2.city\n",
    "        AND c1.customername > c2.customerName\n",
    "ORDER BY c1.city\n",
    "\"\"\")"
   ]
  },
  {
   "cell_type": "markdown",
   "metadata": {},
   "source": [
    "# Latihan:\n",
    "\n",
    "### One to many relationship\n",
    "1. Report the account representative for each customer.\n",
    "2. Report total payments for Atelier graphique.\n",
    "3. Report the total payments by date\n",
    "4. Report the products that have not been sold.\n",
    "5. List the amount paid by each customer.\n",
    "6. How many orders have been placed by Herkku Gifts?\n",
    "7. Who are the employees in Boston?\n",
    "8. Report those payments greater than \\$100,000. Sort the report so the customer who made the highest payment appears first.\n",
    "9. List the value of 'On Hold' orders.\n",
    "10. Report the number of orders 'On Hold' for each customer.\n",
    "\n",
    "### Many to many relationship\n",
    "1. List products sold by order date.\n",
    "2. List the order dates in descending order for orders for the 1940 Ford Pickup Truck.\n",
    "3. List the names of customers and their corresponding order number where a particular order from that customer has a value greater than $25,000?\n",
    "4. Are there any products that appear on all orders?\n",
    "5. List the names of products sold at less than 80% of the MSRP.\n",
    "6. Reports those products that have been sold with a markup of 100% or more (i.e.,  the priceEach is at least twice the buyPrice)\n",
    "7. List the products ordered on a Monday.\n",
    "8. What is the quantity on hand for products listed on 'On Hold' orders?"
   ]
  },
  {
   "cell_type": "code",
   "execution_count": null,
   "metadata": {},
   "outputs": [],
   "source": []
  }
 ],
 "metadata": {
  "kernelspec": {
   "display_name": "Python 3",
   "language": "python",
   "name": "python3"
  },
  "language_info": {
   "codemirror_mode": {
    "name": "ipython",
    "version": 3
   },
   "file_extension": ".py",
   "mimetype": "text/x-python",
   "name": "python",
   "nbconvert_exporter": "python",
   "pygments_lexer": "ipython3",
   "version": "3.6.0"
  }
 },
 "nbformat": 4,
 "nbformat_minor": 2
}
