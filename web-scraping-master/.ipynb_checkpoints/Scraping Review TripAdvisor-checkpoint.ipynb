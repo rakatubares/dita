{
 "cells": [
  {
   "cell_type": "markdown",
   "metadata": {},
   "source": [
    "# Scraping TripAdvisor"
   ]
  },
  {
   "cell_type": "markdown",
   "metadata": {},
   "source": [
    "Pada python notebook ini akan dijelaskan mengenai scraping review dalam tripadvisor.co.id\n",
    "\n",
    "Scraping dimulai dari halaman review, lalu akan menelusuri setiap review, dan akan mengambil properties berupa:\n",
    "- nilai\n",
    "- review"
   ]
  },
  {
   "cell_type": "code",
   "execution_count": null,
   "metadata": {
    "collapsed": false
   },
   "outputs": [],
   "source": [
    "import urllib\n",
    "\n",
    "REVIEW_URL = \"https://www.tripadvisor.co.id/Hotel_Review-g5074492-d5012360-Reviews-Eastparc_Hotel-Depok_Yogyakarta_Java.html\"\n",
    "\n",
    "print(REVIEW_URL)\n",
    "\n",
    "r = urllib.urlopen(REVIEW_URL).read()\n",
    "print(type(r))\n",
    "print(r[1:100])"
   ]
  },
  {
   "cell_type": "code",
   "execution_count": null,
   "metadata": {
    "collapsed": false
   },
   "outputs": [],
   "source": [
    "from bs4 import BeautifulSoup \n",
    "\n",
    "soup = BeautifulSoup(r,\"lxml\")\n",
    "print(type(soup))\n",
    "print(soup.prettify()[1:100])"
   ]
  },
  {
   "cell_type": "code",
   "execution_count": null,
   "metadata": {
    "collapsed": false
   },
   "outputs": [],
   "source": [
    "reviews = []\n",
    "for review in soup.find_all(\"div\",\"reviewSelector\"):\n",
    "    rating = review.find(\"div\",\"rating\").find(\"img\")[\"alt\"].split()[1]\n",
    "    entry = review.find(\"div\",\"entry\").text.encode(\"utf8\")\n",
    "    reviews.append([rating,entry])"
   ]
  },
  {
   "cell_type": "code",
   "execution_count": null,
   "metadata": {
    "collapsed": true
   },
   "outputs": [],
   "source": [
    "import csv\n",
    "\n",
    "with open('data_review.csv', 'wb') as f:\n",
    "    writer = csv.writer(f)\n",
    "    writer.writerows(reviews)"
   ]
  },
  {
   "cell_type": "code",
   "execution_count": null,
   "metadata": {
    "collapsed": true
   },
   "outputs": [],
   "source": []
  }
 ],
 "metadata": {
  "kernelspec": {
   "display_name": "Python 2",
   "language": "python",
   "name": "python2"
  },
  "language_info": {
   "codemirror_mode": {
    "name": "ipython",
    "version": 2
   },
   "file_extension": ".py",
   "mimetype": "text/x-python",
   "name": "python",
   "nbconvert_exporter": "python",
   "pygments_lexer": "ipython2",
   "version": "2.7.11"
  }
 },
 "nbformat": 4,
 "nbformat_minor": 0
}
