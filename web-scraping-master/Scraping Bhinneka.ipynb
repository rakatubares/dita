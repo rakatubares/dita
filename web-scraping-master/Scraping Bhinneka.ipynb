{
 "cells": [
  {
   "cell_type": "markdown",
   "metadata": {},
   "source": [
    "## Scraping Bhinneka\n",
    "\n",
    "Dalam bahasan scraping kali ini, kita akan melakukan scraping berdasarkan hasil pencarian dengan sebuah kata kunci di bhinneka\n",
    "\n",
    "### Inisialisasi Url Lib\n",
    "\n",
    "urllib merupakan modul python untuk mengakses halaman web. Digunakan fungsi urlopen dan read untuk membaca kode HTML. Dapat dilihat r merupakan string HTML."
   ]
  },
  {
   "cell_type": "code",
   "execution_count": null,
   "metadata": {
    "collapsed": false
   },
   "outputs": [],
   "source": [
    "from urllib2 import urlopen\n",
    "keyword = \"iphone\"\n",
    "html = urlopen(\"http://www.bhinneka.com/search.aspx?Search=\"+keyword).read()\n",
    "print(type(html))\n",
    "print(html[1:1000])\n",
    "\n"
   ]
  },
  {
   "cell_type": "markdown",
   "metadata": {},
   "source": [
    "### Inisialisasi BeautifulSoup\n",
    "\n",
    "Untuk membantu dalam proses web scraping digunakan modul beautifulsoup.\n",
    "\n",
    "Pertama tama diimport dahulu modulnya, lalu string html diubah menjadi objek beautiful soup dan digunakan parser lxml\n",
    "\n",
    "Jika di print soup nya, sekilas terlihat seperti string HTML, namun sebenarnya itu merupakan sebuah objek soup yang bisa ditelusri setiap elemennya!"
   ]
  },
  {
   "cell_type": "code",
   "execution_count": null,
   "metadata": {
    "collapsed": false
   },
   "outputs": [],
   "source": [
    "from bs4 import BeautifulSoup\n",
    "soup = BeautifulSoup(html, \"lxml\")\n",
    "print(type(soup))\n",
    "print(soup.prettify()[1:1000])"
   ]
  },
  {
   "cell_type": "markdown",
   "metadata": {},
   "source": [
    "### Telusuri\n",
    "\n",
    "Telusuri setiap tag li yang mempunyai class prod-item. Ambil atribut-atribut yang dibutuhkan\n"
   ]
  },
  {
   "cell_type": "code",
   "execution_count": null,
   "metadata": {
    "collapsed": false
   },
   "outputs": [],
   "source": [
    "produk = soup.find_all(\"li\",\"prod-itm\")\n",
    "for p in produk:\n",
    "    print p.find('span','prod-itm-fullname').get_text()\n",
    "    print p.find('span','prod-itm-price').get_text()\n",
    "    "
   ]
  },
  {
   "cell_type": "markdown",
   "metadata": {},
   "source": [
    "### Panda Dataframe"
   ]
  },
  {
   "cell_type": "code",
   "execution_count": null,
   "metadata": {
    "collapsed": false
   },
   "outputs": [],
   "source": [
    "import pandas as pd\n",
    "\n",
    "nama_produk = []\n",
    "harga_produk = []\n",
    "\n",
    "produk = soup.find_all(\"li\",\"prod-itm\")\n",
    "\n",
    "for p in produk:\n",
    "    nama = p.find('span','prod-itm-fullname').get_text().encode('utf-8')\n",
    "    harga = p.find('span','prod-itm-price').get_text().encode('utf-8')\n",
    "    nama_produk.append(nama)\n",
    "    harga_produk.append(harga.replace(\"Rp\",\"\"))\n",
    "\n",
    "produk_dict = {'nama':nama_produk,'harga':harga_produk}\n",
    "df = pd.DataFrame(produk_dict,columns = ['nama','harga'])\n",
    "\n",
    "df.sort_values('harga')"
   ]
  },
  {
   "cell_type": "code",
   "execution_count": 39,
   "metadata": {
    "collapsed": true
   },
   "outputs": [],
   "source": [
    "df.to_csv(\"Bhinneka.csv\", sep='\\t')"
   ]
  },
  {
   "cell_type": "code",
   "execution_count": null,
   "metadata": {
    "collapsed": true
   },
   "outputs": [],
   "source": []
  }
 ],
 "metadata": {
  "kernelspec": {
   "display_name": "Python 2",
   "language": "python",
   "name": "python2"
  },
  "language_info": {
   "codemirror_mode": {
    "name": "ipython",
    "version": 2
   },
   "file_extension": ".py",
   "mimetype": "text/x-python",
   "name": "python",
   "nbconvert_exporter": "python",
   "pygments_lexer": "ipython2",
   "version": "2.7.11"
  }
 },
 "nbformat": 4,
 "nbformat_minor": 0
}
