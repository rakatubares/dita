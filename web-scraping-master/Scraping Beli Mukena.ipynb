{
 "cells": [
  {
   "cell_type": "code",
   "execution_count": 38,
   "metadata": {
    "collapsed": false
   },
   "outputs": [],
   "source": [
    "import urllib\n",
    "r = urllib.urlopen('http://belimukena.com/').read()\n",
    "from bs4 import BeautifulSoup \n",
    "soup = BeautifulSoup(r,\"lxml\")\n",
    "links = soup.find_all('a')\n",
    "all_cat_link = [link for link in links if '/category/' in str(link) and 'javascript:void(0)' not in str(link) and '#' not in str(link)]"
   ]
  },
  {
   "cell_type": "code",
   "execution_count": 39,
   "metadata": {
    "collapsed": false
   },
   "outputs": [],
   "source": [
    "category_link = [l[\"href\"] for l in all_cat_link if len(l[\"href\"].split(\"/\"))==6]"
   ]
  },
  {
   "cell_type": "code",
   "execution_count": 40,
   "metadata": {
    "collapsed": false
   },
   "outputs": [],
   "source": [
    "from PIL import Image\n",
    "from StringIO import StringIO\n",
    "import string\n",
    "import pymysql\n",
    "\n",
    "database='etd'\n",
    "connection=pymysql.connect(cursorclass=pymysql.cursors.DictCursor,\n",
    "                               db=database,\n",
    "                               host='localhost',\n",
    "                               passwd='',\n",
    "                               port=3306,\n",
    "                               user='root')\n",
    "cursor = connection.cursor()\n",
    "\n",
    "def getProduk(link):\n",
    "    p = urllib.urlopen(link).read()\n",
    "    soup_p = BeautifulSoup(p,\"lxml\")\n",
    "\n",
    "    nama = soup_p.find(\"div\",{id:\"minimarket-right\"}).find(\"h1\").text\n",
    "    kategori = soup_p.find(\"div\",\"detail\").find_all(\"td\")[1].text\n",
    "    harga = soup_p.find(\"div\",\"detail\").find_all(\"td\")[7].text.replace(\"Rp\",\"\").replace(\".\",\"\").strip()\n",
    "    berat = soup_p.find(\"div\",\"detail\").find_all(\"td\")[5].text\n",
    "    bahan =  soup_p.find(\"div\",\"post\").find(\"p\").text\n",
    "    gambar = soup_p.find(\"div\",\"bigpic\").find(\"a\")[\"href\"]\n",
    "    \n",
    "    rgam = urllib.urlopen(gambar).read()\n",
    "    i = Image.open(StringIO(rgam))\n",
    "    \n",
    "    exclude = set(string.punctuation)\n",
    "    judul = ''.join(ch for ch in nama if ch not in exclude)\n",
    "    \n",
    "    nama_file = \"beli_mukena/\" + judul + \".jpg\"\n",
    "    i.save(nama_file,'JPEG')\n",
    "    \n",
    "    sql = \"INSERT IGNORE INTO produk VALUES (%s,%s,%s,%s,%s,%s,%s)\"\n",
    "    cursor.execute(sql,(\"\",str(nama),int(harga),str(berat),str(kategori),str(bahan),nama_file))\n",
    "    connection.commit()\n",
    "\n"
   ]
  },
  {
   "cell_type": "code",
   "execution_count": null,
   "metadata": {
    "collapsed": false
   },
   "outputs": [],
   "source": [
    "produk_link = set()\n",
    "for l in category_link:\n",
    "    print(l)\n",
    "    rc = urllib.urlopen(l).read()\n",
    "    soup_c = BeautifulSoup(rc,\"lxml\")\n",
    "    max_page = int(soup_c.find(\"span\",\"pages\").text.split()[3].replace(\":\",\"\"))\n",
    "    for i in range(1,max_page+1):\n",
    "        page_url = str(l)+\"page/\"+str(i)\n",
    "        print(page_url)\n",
    "        rcc = urllib.urlopen(page_url).read()\n",
    "        soup_cc = BeautifulSoup(rcc,\"lxml\")\n",
    "        links = soup_cc.find_all('a')\n",
    "        for link in links:\n",
    "            if len(link[\"href\"].split(\"/\"))==5:\n",
    "                if link[\"href\"] not in produk_link:\n",
    "                    try:\n",
    "                        getProduk(link[\"href\"])\n",
    "                        produk_link.add(link[\"href\"])\n",
    "                    except:\n",
    "                        print(link[\"href\"],\"Error\")\n",
    "                        produk_link.add(link[\"href\"])\n",
    "            \n"
   ]
  },
  {
   "cell_type": "code",
   "execution_count": null,
   "metadata": {
    "collapsed": true
   },
   "outputs": [],
   "source": [
    "getProduk(\"http://belimukena.com/mukena-belinda-hijau-mint/\")"
   ]
  },
  {
   "cell_type": "code",
   "execution_count": null,
   "metadata": {
    "collapsed": true
   },
   "outputs": [],
   "source": []
  }
 ],
 "metadata": {
  "kernelspec": {
   "display_name": "Python 2",
   "language": "python",
   "name": "python2"
  },
  "language_info": {
   "codemirror_mode": {
    "name": "ipython",
    "version": 2
   },
   "file_extension": ".py",
   "mimetype": "text/x-python",
   "name": "python",
   "nbconvert_exporter": "python",
   "pygments_lexer": "ipython2",
   "version": "2.7.11"
  }
 },
 "nbformat": 4,
 "nbformat_minor": 0
}
