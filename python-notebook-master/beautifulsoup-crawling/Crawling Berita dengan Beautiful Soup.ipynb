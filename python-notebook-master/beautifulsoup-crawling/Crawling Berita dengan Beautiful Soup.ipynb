{
 "cells": [
  {
   "cell_type": "markdown",
   "metadata": {},
   "source": [
    "### Mengimport semua library yang dibutuhkan"
   ]
  },
  {
   "cell_type": "code",
   "execution_count": 2,
   "metadata": {},
   "outputs": [],
   "source": [
    "from bs4 import BeautifulSoup as bs\n",
    "import urllib"
   ]
  },
  {
   "cell_type": "markdown",
   "metadata": {},
   "source": [
    "### Mengambil link berita dan membuka dalam bentuk HTML\n",
    "Hasil yang didapatkan adalah halaman dalam bentuk HTML.\n",
    "Hanya 2000 karakter pertama dalam HTML yang diambil"
   ]
  },
  {
   "cell_type": "code",
   "execution_count": 5,
   "metadata": {},
   "outputs": [
    {
     "name": "stdout",
     "output_type": "stream",
     "text": [
      "b'<!DOCTYPE html>\\n<html>\\n<head>\\n    <title>Indeks berita terbaru hari ini dari isu terkini di indonesia</title>\\n<meta name=\"description\" content=\"Indeks berita terbaru hari ini dari peristiwa, kecelakaan, kriminal, hukum, berita unik, Politik, dan liputan khusus di Indonesia dan Internasional\" itemprop=\"description\" />\\n<meta charset=\"utf-8\">\\n<meta http-equiv=\"X-UA-Compatible\" content=\"text/html; charset=UTF-8\" />\\n<meta name=\"viewport\" content=\"width=device-width, initial-scale=1.0\" />\\n<link href=\"https://plus.google.com/+detikcom\" rel=\"publisher\" />\\n\\n\\t\\t<meta property=\"og:type\" content=\"article\" />\\n\\t\\t<meta property=\"og:site_name\" content=\"detiknews\" />\\n\\t\\t<meta property=\"og:title\" content=\"Indeks berita terbaru hari ini dari isu terkini di indonesia\" />\\n\\t\\t<meta property=\"og:image\" content=\"https://akcdn.detik.net.id/logo_tematik/logodetiknews.png\" />\\n\\t\\t<meta property=\"og:description\" content=\"Indeks berita terbaru hari ini dari peristiwa, kecelakaan, kriminal, hukum, berita unik, Politik, dan liputan khusus di Indonesia dan Internasional\" />\\n\\t\\t<meta property=\"og:url\" content=\"https://news.detik.com/indeks/all\" />\\n\\t\\t<meta property=\"fb:app_id\" content=\"187960271237149\" />\\n\\t\\t<meta property=\"fb:admins\" content=\"100000607566694\" />\\n\\t\\t<meta property=\"og:image:type\" content=\"image/jpeg\" />\\n\\t\\t<meta property=\"og:image:width\" content=\"650\" />\\n\\t\\t<meta property=\"og:image:height\" content=\"366\" />\\n<meta name=\"copyright\" content=\"detiknews\" itemprop=\"dateline\" />\\n<meta name=\"p:domain_verify\" content=\"405e0728202749df914f7811375e18a0\" />\\n<meta name=\"robots\" content=\"index, follow\" />\\n<meta content=\"Indeks berita terbaru hari ini dari peristiwa, kecelakaan, kriminal, hukum, berita unik, Politik, dan liputan khusus di Indonesia dan Internasional\" itemprop=\"headline\" />\\n<meta name=\"keywords\" content=\"berita hari ini, berita terkini, info berita, peristiwa, kecelakaan, kriminal, hukum, berita unik, Politik, liputan khusus, Indonesia, Internasional\" itemprop=\"keywords\" />\\n<meta name=\"thumbn'...\n"
     ]
    }
   ],
   "source": [
    "url = 'https://news.detik.com/indeks/all'\n",
    "html = urllib.request.urlopen(url).read()\n",
    "print(str(html[:2000])+'...')"
   ]
  },
  {
   "cell_type": "markdown",
   "metadata": {},
   "source": [
    "### Inisiasi crawling di halaman pertama\n",
    "Hasil dari inisialisasi ini adalah link berita yang diambil"
   ]
  },
  {
   "cell_type": "code",
   "execution_count": 4,
   "metadata": {},
   "outputs": [
    {
     "data": {
      "text/plain": [
       "['https://news.detik.com/berita/d-4267289/inikah-strategi-pamungkas-jokowi-lawan-prabowo',\n",
       " 'https://news.detik.com/berita-jawa-timur/d-4267283/prabowo-sandiaga-napak-tilas-resolusi-jihad-ke-makam-pendiri-nu',\n",
       " 'https://news.detik.com/berita/d-4267265/pks-sindir-jokowi-ada-beragam-dana-jelang-pemilu',\n",
       " 'https://news.detik.com/berita/d-4267279/jokowi-bicara-politik-kebohongan-fadli-menyindir-diri-sendiri',\n",
       " 'https://news.detik.com/berita-jawa-timur/d-4267277/ini-jadwal-pemanggilan-ahmad-dhani-terkait-kasus-penipuan-di-batu',\n",
       " 'https://news.detik.com/berita/d-4267274/konflik-sampah-dki-bekasi-ini-yang-dimaksud-dana-kompensasi',\n",
       " 'https://news.detik.com/berita-jawa-barat/d-4267271/bahaya-lgbt-pemkab-garut-optimalkan-perda-antimaksiat',\n",
       " 'https://news.detik.com/internasional/d-4267269/menlu-arab-saudi-kami-tak-tahu-di-mana-jasad-khashoggi',\n",
       " 'https://news.detik.com/berita/d-4267263/bos-kartel-narkoba-makassar-tewas-di-sel-penjara',\n",
       " 'https://news.detik.com/berita-jawa-tengah/d-4267270/hari-santri-makam-guru-pendiri-nu-di-kudus-ramai-peziarah',\n",
       " 'https://news.detik.com/berita/d-4267262/polisi-panggil-asisten-ratna-sarumpaet-soal-kasus-hoax-penganiayaan',\n",
       " 'https://news.detik.com/berita/d-4267268/ajukan-kasasi-kpk-ingin-fredrich-dihukum-12-tahun-penjara',\n",
       " 'https://news.detik.com/berita/d-4267259/mari-bantu-sulteng-donasi-dompet-amal-transmedia-capai-rp-77-m',\n",
       " 'https://news.detik.com/berita/d-4267256/wali-kota-bekasi-menolak-anggapan-anies-urusan-sampah-sudah-selesai',\n",
       " 'https://news.detik.com/kolom/d-4267255/nasionalisme-santri-jilid-dua',\n",
       " 'https://news.detik.com/berita-jawa-barat/d-4267258/hadiri-hari-santri-di-tasikmalaya-maruf-amin-minta-santri-berdaya',\n",
       " 'https://news.detik.com/berita/d-4267257/konflik-sampah-wali-kota-bekasi-berharap-peristiwa-lalu-tak-terulang',\n",
       " 'https://news.detik.com/berita/d-4267245/hnw-minta-jokowi-jadi-contoh-politik-tanpa-kebohongan',\n",
       " 'https://news.detik.com/foto-news/d-4267228/festival-kematian-ketika-setan-turun-ke-jalan',\n",
       " 'https://news.detik.com/berita/d-4267225/wali-kota-bekasi-nggak-susah-nutup-bantargebang-yang-susah-membuka']"
      ]
     },
     "execution_count": 4,
     "metadata": {},
     "output_type": "execute_result"
    }
   ],
   "source": [
    "soup = bs(html,'lxml')\n",
    "divs = soup.find_all('div', attrs={'class':'desc_idx ml10'})\n",
    "\n",
    "news_links = []\n",
    "for div in divs:\n",
    "    news_links.append(div.a['href'])\n",
    "news_links"
   ]
  },
  {
   "cell_type": "markdown",
   "metadata": {},
   "source": [
    "### Crawling di halaman pertama\n",
    "Pada tiap halaman yang dicrawl, yang diambil adalah judul dan artikel. Hanya halaman berita yang dicrawl"
   ]
  },
  {
   "cell_type": "code",
   "execution_count": 5,
   "metadata": {},
   "outputs": [
    {
     "data": {
      "text/plain": [
       "['Inikah Strategi Pamungkas Jokowi Lawan Prabowo?',\n",
       " 'Prabowo-Sandiaga Napak Tilas Resolusi Jihad ke Makam Pendiri NU',\n",
       " 'PKS Sindir Jokowi: Ada Beragam Dana Jelang Pemilu',\n",
       " 'Jokowi Bicara Politik Kebohongan, Fadli: Menyindir Diri Sendiri',\n",
       " 'Ini Jadwal Pemanggilan Ahmad Dhani Terkait Kasus Penipuan di Batu',\n",
       " 'Konflik Sampah DKI-Bekasi, Ini yang Dimaksud Dana Kompensasi',\n",
       " 'Bahaya LGBT, Pemkab Garut Optimalkan Perda Antimaksiat',\n",
       " 'Bos Kartel Narkoba Makassar Tewas di Sel Penjara',\n",
       " 'Hari Santri, Makam Guru Pendiri NU di Kudus Ramai Peziarah',\n",
       " 'Polisi Panggil Asisten Ratna Sarumpaet soal Kasus Hoax Penganiayaan',\n",
       " 'Ajukan Kasasi, KPK Ingin Fredrich Dihukum 12 Tahun Penjara',\n",
       " 'Mari Bantu Sulteng, Donasi Dompet Amal Transmedia Capai Rp 7,7 M',\n",
       " 'Wali Kota Bekasi Menolak Anggapan Anies Urusan Sampah Sudah Selesai',\n",
       " \"Hadiri Hari Santri di Tasikmalaya, Ma'ruf Amin Minta Santri Berdaya\",\n",
       " 'Konflik Sampah, Wali Kota Bekasi Berharap Peristiwa Lalu Tak Terulang',\n",
       " 'HNW Minta Jokowi Jadi Contoh Politik Tanpa Kebohongan',\n",
       " 'Wali Kota Bekasi: Nggak Susah Nutup Bantargebang, yang Susah Membuka']"
      ]
     },
     "execution_count": 5,
     "metadata": {},
     "output_type": "execute_result"
    }
   ],
   "source": [
    "titles = []\n",
    "articles = []    \n",
    "for news_link in news_links:\n",
    "    if 'https://news.detik.com/berita' in news_link:\n",
    "        sub_url = news_link\n",
    "        sub_html = urllib.request.urlopen(sub_url).read()\n",
    "        sub_soup = bs(sub_html,'lxml')\n",
    "        \n",
    "        title = sub_soup.find_all('div', attrs={'class':'jdl'})[0].h1.text\n",
    "        article = sub_soup.find_all('div', attrs={'class':'detail_text'})[0].text\n",
    "        \n",
    "        titles.append(title)\n",
    "        articles.append(article)\n",
    "titles"
   ]
  },
  {
   "cell_type": "markdown",
   "metadata": {},
   "source": [
    "### Inisiasi dan crawling di halaman selanjutnya dengan loop\n",
    "Untuk halaman selanjutnya, prosesnya sama namun diganti halaman yang dicrawl"
   ]
  },
  {
   "cell_type": "code",
   "execution_count": null,
   "metadata": {},
   "outputs": [],
   "source": [
    "for page in range(2,10):\n",
    "    url = 'https://news.detik.com/indeks/all/'+str(page)\n",
    "    html = urllib.request.urlopen(url).read()\n",
    "    \n",
    "    soup = bs(html,'lxml')\n",
    "    divs = soup.find_all('div', attrs={'class':'desc_idx ml10'})\n",
    "    \n",
    "    news_links = []\n",
    "    for div in divs:\n",
    "        news_links.append(div.a['href'])\n",
    "        \n",
    "    for news_link in news_links:\n",
    "        if 'https://news.detik.com/berita' in news_link:\n",
    "            sub_url = news_link\n",
    "            sub_html = urllib.request.urlopen(sub_url).read()\n",
    "            sub_soup = bs(sub_html,'lxml')\n",
    "            \n",
    "            title = sub_soup.find_all('div', attrs={'class':'jdl'})[0].h1.text\n",
    "            article = sub_soup.find_all('div', attrs={'class':'detail_text'})[0].text\n",
    "            \n",
    "            titles.append(title)\n",
    "            articles.append(article)"
   ]
  },
  {
   "cell_type": "markdown",
   "metadata": {},
   "source": [
    "### Menyimpan data dalam tabel Pandas"
   ]
  },
  {
   "cell_type": "code",
   "execution_count": 9,
   "metadata": {},
   "outputs": [
    {
     "data": {
      "text/html": [
       "<div>\n",
       "<style scoped>\n",
       "    .dataframe tbody tr th:only-of-type {\n",
       "        vertical-align: middle;\n",
       "    }\n",
       "\n",
       "    .dataframe tbody tr th {\n",
       "        vertical-align: top;\n",
       "    }\n",
       "\n",
       "    .dataframe thead th {\n",
       "        text-align: right;\n",
       "    }\n",
       "</style>\n",
       "<table border=\"1\" class=\"dataframe\">\n",
       "  <thead>\n",
       "    <tr style=\"text-align: right;\">\n",
       "      <th></th>\n",
       "      <th>title</th>\n",
       "      <th>article</th>\n",
       "    </tr>\n",
       "  </thead>\n",
       "  <tbody>\n",
       "    <tr>\n",
       "      <th>0</th>\n",
       "      <td>Inikah Strategi Pamungkas Jokowi Lawan Prabowo?</td>\n",
       "      <td>\\n\\n\\n\\n Foto: Gibran dan Jordan/detikcom\\n\\n\\...</td>\n",
       "    </tr>\n",
       "    <tr>\n",
       "      <th>1</th>\n",
       "      <td>Prabowo-Sandiaga Napak Tilas Resolusi Jihad ke...</td>\n",
       "      <td>\\n\\n\\n\\n\\nJombang -\\n Capres dan Cawapres Prab...</td>\n",
       "    </tr>\n",
       "    <tr>\n",
       "      <th>2</th>\n",
       "      <td>PKS Sindir Jokowi: Ada Beragam Dana Jelang Pemilu</td>\n",
       "      <td>\\n\\n\\n\\n\\nJakarta -\\n Presiden Joko Widodo (Jo...</td>\n",
       "    </tr>\n",
       "    <tr>\n",
       "      <th>3</th>\n",
       "      <td>Jokowi Bicara Politik Kebohongan, Fadli: Menyi...</td>\n",
       "      <td>\\n\\n\\n\\n\\nJakarta -\\n Presiden Joko Widodo (Jo...</td>\n",
       "    </tr>\n",
       "    <tr>\n",
       "      <th>4</th>\n",
       "      <td>Ini Jadwal Pemanggilan Ahmad Dhani Terkait Kas...</td>\n",
       "      <td>\\n\\n\\n\\n\\nSurabaya -\\n Meski telah ditetapkan ...</td>\n",
       "    </tr>\n",
       "    <tr>\n",
       "      <th>5</th>\n",
       "      <td>Konflik Sampah DKI-Bekasi, Ini yang Dimaksud D...</td>\n",
       "      <td>\\n\\n\\n\\n\\nJakarta -\\n Pemkot Bekasi dan Pempro...</td>\n",
       "    </tr>\n",
       "    <tr>\n",
       "      <th>6</th>\n",
       "      <td>Bahaya LGBT, Pemkab Garut Optimalkan Perda Ant...</td>\n",
       "      <td>\\n\\n\\n\\n\\nGarut -\\n Pascaheboh komunitas gay, ...</td>\n",
       "    </tr>\n",
       "    <tr>\n",
       "      <th>7</th>\n",
       "      <td>Bos Kartel Narkoba Makassar Tewas di Sel Penjara</td>\n",
       "      <td>\\n\\n\\n\\n\\nMakassar -\\n Bos kartel narkoba seka...</td>\n",
       "    </tr>\n",
       "    <tr>\n",
       "      <th>8</th>\n",
       "      <td>Hari Santri, Makam Guru Pendiri NU di Kudus Ra...</td>\n",
       "      <td>\\n\\n\\n\\n\\nKudus -\\n Ratusan santri dari MI Qud...</td>\n",
       "    </tr>\n",
       "    <tr>\n",
       "      <th>9</th>\n",
       "      <td>Polisi Panggil Asisten Ratna Sarumpaet soal Ka...</td>\n",
       "      <td>\\n\\n\\n\\n\\nJakarta -\\n Penyidik Direktorat Krim...</td>\n",
       "    </tr>\n",
       "    <tr>\n",
       "      <th>10</th>\n",
       "      <td>Ajukan Kasasi, KPK Ingin Fredrich Dihukum 12 T...</td>\n",
       "      <td>\\n\\n\\n\\n\\nJakarta -\\n\\t\\t\\t\\t\\t\\t\\tJaksa KPK m...</td>\n",
       "    </tr>\n",
       "    <tr>\n",
       "      <th>11</th>\n",
       "      <td>Mari Bantu Sulteng, Donasi Dompet Amal Transme...</td>\n",
       "      <td>\\n\\n\\n\\n Foto: Dompet Amal Transmedia untuk Pa...</td>\n",
       "    </tr>\n",
       "    <tr>\n",
       "      <th>12</th>\n",
       "      <td>Wali Kota Bekasi Menolak Anggapan Anies Urusan...</td>\n",
       "      <td>\\n\\n\\n\\n\\nBekasi -\\n Gubernur DKI Jakarta Anie...</td>\n",
       "    </tr>\n",
       "    <tr>\n",
       "      <th>13</th>\n",
       "      <td>Hadiri Hari Santri di Tasikmalaya, Ma'ruf Amin...</td>\n",
       "      <td>\\n\\n\\n\\n\\nTasikmalaya -\\n Cawapres nomor urut ...</td>\n",
       "    </tr>\n",
       "    <tr>\n",
       "      <th>14</th>\n",
       "      <td>Konflik Sampah, Wali Kota Bekasi Berharap Peri...</td>\n",
       "      <td>\\n\\n\\n\\n\\nBekasi -\\n Wali Kota Bekasi Rahmat E...</td>\n",
       "    </tr>\n",
       "    <tr>\n",
       "      <th>15</th>\n",
       "      <td>HNW Minta Jokowi Jadi Contoh Politik Tanpa Keb...</td>\n",
       "      <td>\\n\\n\\n\\n\\nJakarta -\\n\\t\\t\\t\\t\\t\\t\\tPresiden Jo...</td>\n",
       "    </tr>\n",
       "    <tr>\n",
       "      <th>16</th>\n",
       "      <td>Wali Kota Bekasi: Nggak Susah Nutup Bantargeba...</td>\n",
       "      <td>\\n\\n\\n\\n\\nJakarta -\\n Konflik sampah merambat ...</td>\n",
       "    </tr>\n",
       "  </tbody>\n",
       "</table>\n",
       "</div>"
      ],
      "text/plain": [
       "                                                title  \\\n",
       "0     Inikah Strategi Pamungkas Jokowi Lawan Prabowo?   \n",
       "1   Prabowo-Sandiaga Napak Tilas Resolusi Jihad ke...   \n",
       "2   PKS Sindir Jokowi: Ada Beragam Dana Jelang Pemilu   \n",
       "3   Jokowi Bicara Politik Kebohongan, Fadli: Menyi...   \n",
       "4   Ini Jadwal Pemanggilan Ahmad Dhani Terkait Kas...   \n",
       "5   Konflik Sampah DKI-Bekasi, Ini yang Dimaksud D...   \n",
       "6   Bahaya LGBT, Pemkab Garut Optimalkan Perda Ant...   \n",
       "7    Bos Kartel Narkoba Makassar Tewas di Sel Penjara   \n",
       "8   Hari Santri, Makam Guru Pendiri NU di Kudus Ra...   \n",
       "9   Polisi Panggil Asisten Ratna Sarumpaet soal Ka...   \n",
       "10  Ajukan Kasasi, KPK Ingin Fredrich Dihukum 12 T...   \n",
       "11  Mari Bantu Sulteng, Donasi Dompet Amal Transme...   \n",
       "12  Wali Kota Bekasi Menolak Anggapan Anies Urusan...   \n",
       "13  Hadiri Hari Santri di Tasikmalaya, Ma'ruf Amin...   \n",
       "14  Konflik Sampah, Wali Kota Bekasi Berharap Peri...   \n",
       "15  HNW Minta Jokowi Jadi Contoh Politik Tanpa Keb...   \n",
       "16  Wali Kota Bekasi: Nggak Susah Nutup Bantargeba...   \n",
       "\n",
       "                                              article  \n",
       "0   \\n\\n\\n\\n Foto: Gibran dan Jordan/detikcom\\n\\n\\...  \n",
       "1   \\n\\n\\n\\n\\nJombang -\\n Capres dan Cawapres Prab...  \n",
       "2   \\n\\n\\n\\n\\nJakarta -\\n Presiden Joko Widodo (Jo...  \n",
       "3   \\n\\n\\n\\n\\nJakarta -\\n Presiden Joko Widodo (Jo...  \n",
       "4   \\n\\n\\n\\n\\nSurabaya -\\n Meski telah ditetapkan ...  \n",
       "5   \\n\\n\\n\\n\\nJakarta -\\n Pemkot Bekasi dan Pempro...  \n",
       "6   \\n\\n\\n\\n\\nGarut -\\n Pascaheboh komunitas gay, ...  \n",
       "7   \\n\\n\\n\\n\\nMakassar -\\n Bos kartel narkoba seka...  \n",
       "8   \\n\\n\\n\\n\\nKudus -\\n Ratusan santri dari MI Qud...  \n",
       "9   \\n\\n\\n\\n\\nJakarta -\\n Penyidik Direktorat Krim...  \n",
       "10  \\n\\n\\n\\n\\nJakarta -\\n\\t\\t\\t\\t\\t\\t\\tJaksa KPK m...  \n",
       "11  \\n\\n\\n\\n Foto: Dompet Amal Transmedia untuk Pa...  \n",
       "12  \\n\\n\\n\\n\\nBekasi -\\n Gubernur DKI Jakarta Anie...  \n",
       "13  \\n\\n\\n\\n\\nTasikmalaya -\\n Cawapres nomor urut ...  \n",
       "14  \\n\\n\\n\\n\\nBekasi -\\n Wali Kota Bekasi Rahmat E...  \n",
       "15  \\n\\n\\n\\n\\nJakarta -\\n\\t\\t\\t\\t\\t\\t\\tPresiden Jo...  \n",
       "16  \\n\\n\\n\\n\\nJakarta -\\n Konflik sampah merambat ...  "
      ]
     },
     "execution_count": 9,
     "metadata": {},
     "output_type": "execute_result"
    }
   ],
   "source": [
    "import pandas as pd\n",
    "table = pd.DataFrame(columns = ['title','article'])\n",
    "\n",
    "table['title'] = titles\n",
    "table['article'] = articles\n",
    "\n",
    "table.head(16)"
   ]
  },
  {
   "cell_type": "markdown",
   "metadata": {},
   "source": [
    "### Menyimpan ke XLSX"
   ]
  },
  {
   "cell_type": "code",
   "execution_count": 10,
   "metadata": {},
   "outputs": [],
   "source": [
    "writer = pd.ExcelWriter('result.xlsx')\n",
    "table.to_excel(writer,'Sheet1',index=False)\n",
    "writer.save()"
   ]
  },
  {
   "cell_type": "code",
   "execution_count": null,
   "metadata": {},
   "outputs": [],
   "source": []
  }
 ],
 "metadata": {
  "kernelspec": {
   "display_name": "Python 3",
   "language": "python",
   "name": "python3"
  },
  "language_info": {
   "codemirror_mode": {
    "name": "ipython",
    "version": 3
   },
   "file_extension": ".py",
   "mimetype": "text/x-python",
   "name": "python",
   "nbconvert_exporter": "python",
   "pygments_lexer": "ipython3",
   "version": "3.6.5"
  }
 },
 "nbformat": 4,
 "nbformat_minor": 2
}
